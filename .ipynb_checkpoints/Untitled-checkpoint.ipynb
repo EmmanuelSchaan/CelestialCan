{
 "cells": [
  {
   "cell_type": "code",
   "execution_count": 1,
   "metadata": {},
   "outputs": [],
   "source": [
    "import numpy as np\n",
    "import matplotlib.pyplot as plt\n",
    "from matplotlib import patches"
   ]
  },
  {
   "cell_type": "code",
   "execution_count": 2,
   "metadata": {},
   "outputs": [],
   "source": [
    "# Input the dimensions of the can\n",
    "H0 = 10   # height from LED to top of can [cm]\n",
    "R0 = 10   # cylinder radius [CMB]"
   ]
  },
  {
   "cell_type": "code",
   "execution_count": 3,
   "metadata": {},
   "outputs": [],
   "source": [
    "# read Hipparcos star catalog\n",
    "pathInput = \"./input/hipparcos/hip2.dat\"\n",
    "data = np.genfromtxt(pathInput)\n",
    "ra = data[:,4]\n",
    "dec = data[:,5]\n",
    "mag = data[:,19]  # Hipparcos magnitude"
   ]
  },
  {
   "cell_type": "code",
   "execution_count": 6,
   "metadata": {},
   "outputs": [
    {
     "name": "stdout",
     "output_type": "stream",
     "text": [
      "Keeping the 679 brightest stars\n"
     ]
    }
   ],
   "source": [
    "# Keep only brightest stars, and choose hemisphere\n",
    "magThresh = 5.\n",
    "selection = (mag<magThresh)*(dec>0.)#*(1-np.isnan(ra))*(1-np.isnan(dec))\n",
    "ra = ra[selection]   # [rad]\n",
    "dec = dec[selection] # [rad]\n",
    "mag = mag[selection]\n",
    "\n",
    "# size of star point\n",
    "starSize = 3.*(magThresh-mag)\n",
    "\n",
    "print \"Keeping the\", len(ra), \"brightest stars\""
   ]
  },
  {
   "cell_type": "code",
   "execution_count": 7,
   "metadata": {},
   "outputs": [],
   "source": [
    "# Determine if a star should be on top or on the side of the can\n",
    "r = H0 / np.tan(dec)\n",
    "# create boolean masks\n",
    "top = np.array(r<=R0)\n",
    "side = ~top"
   ]
  },
  {
   "cell_type": "code",
   "execution_count": null,
   "metadata": {},
   "outputs": [],
   "source": []
  }
 ],
 "metadata": {
  "kernelspec": {
   "display_name": "Python 2",
   "language": "python",
   "name": "python2"
  },
  "language_info": {
   "codemirror_mode": {
    "name": "ipython",
    "version": 2
   },
   "file_extension": ".py",
   "mimetype": "text/x-python",
   "name": "python",
   "nbconvert_exporter": "python",
   "pygments_lexer": "ipython2",
   "version": "2.7.16"
  }
 },
 "nbformat": 4,
 "nbformat_minor": 2
}
